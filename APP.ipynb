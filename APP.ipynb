{
  "cells": [
    {
      "cell_type": "markdown",
      "metadata": {
        "id": "rloYhGNMRFSz"
      },
      "source": [
        "Phần dự đoán dựa trên file data (chạy từ trên xuống dưới)"
      ]
    },
    {
      "cell_type": "code",
      "execution_count": null,
      "metadata": {
        "id": "r-uYYPQsQ_Pr"
      },
      "outputs": [],
      "source": [
        "import pandas as pd\n",
        "from sklearn.model_selection import train_test_split\n",
        "from sklearn.ensemble import RandomForestClassifier\n",
        "from sklearn.metrics import accuracy_score, classification_report\n",
        "from sklearn.preprocessing import LabelEncoder\n",
        "from sklearn.neural_network import MLPClassifier\n",
        "from sklearn.neighbors import KNeighborsClassifier\n",
        "from sklearn.datasets import load_iris\n",
        "from sklearn.linear_model import LinearRegression\n",
        "from sklearn.svm import SVC\n",
        "from sklearn.ensemble import GradientBoostingClassifier"
      ]
    },
    {
      "cell_type": "code",
      "execution_count": null,
      "metadata": {
        "colab": {
          "base_uri": "https://localhost:8080/"
        },
        "id": "jKAFeCUvrTEg",
        "outputId": "d527ddf0-e246-4f8b-c300-27e1734c9448"
      },
      "outputs": [
        {
          "name": "stderr",
          "output_type": "stream",
          "text": [
            "<ipython-input-4-e80a5e4bc300>:2: DtypeWarning: Columns (0) have mixed types. Specify dtype option on import or set low_memory=False.\n",
            "  accident_data = pd.read_csv('/content/drive/MyDrive/Colab Notebooks/Thư mục chứa file CĐ/Accident_Information.csv')\n"
          ]
        }
      ],
      "source": [
        "# Đọc dữ liệu từ file CSV\n",
        "accident_data = pd.read_csv('Accident_Information.csv')\n",
        "vehicle_data = pd.read_csv('Vehicle_Information.csv', encoding='ISO-8859-1')"
      ]
    },
    {
      "cell_type": "code",
      "execution_count": null,
      "metadata": {
        "id": "lv8uArtzrTon"
      },
      "outputs": [],
      "source": [
        "# Kết hợp dữ liệu từ hai bảng\n",
        "combined_data = pd.merge(accident_data, vehicle_data, on='Accident_Index')"
      ]
    },
    {
      "cell_type": "code",
      "execution_count": null,
      "metadata": {
        "id": "WsMxKY9rrVw_"
      },
      "outputs": [],
      "source": [
        "# Chọn các đặc trưng quan trọng và loại bỏ các cột không cần thiết\n",
        "selected_features = ['Accident_Severity', 'Road_Surface_Conditions', 'Light_Conditions', 'Weather_Conditions', 'Speed_limit', 'Junction_Control', 'Vehicle_Type', 'Age_Band_of_Driver', 'Engine_Capacity_.CC.']\n",
        "model_data = combined_data[selected_features]"
      ]
    },
    {
      "cell_type": "code",
      "execution_count": null,
      "metadata": {
        "id": "yLzu9v79rX_w"
      },
      "outputs": [],
      "source": [
        "# Xử lý dữ liệu thiếu và chuyển các biến phân loại sang dạng số\n",
        "model_data = model_data.dropna()\n",
        "le = LabelEncoder()\n",
        "for col in model_data.columns:\n",
        "    if model_data[col].dtype == 'object':\n",
        "        model_data[col] = le.fit_transform(model_data[col])"
      ]
    },
    {
      "cell_type": "code",
      "execution_count": null,
      "metadata": {
        "id": "WWnXRq5JrZTX"
      },
      "outputs": [],
      "source": [
        "# Phân chia dữ liệu thành tập huấn luyện và tập kiểm tra\n",
        "X = model_data.drop('Accident_Severity', axis=1)\n",
        "y = model_data['Accident_Severity']\n",
        "X_train, X_test, y_train, y_test = train_test_split(X, y, test_size=0.2, random_state=42)"
      ]
    },
    {
      "cell_type": "code",
      "execution_count": null,
      "metadata": {
        "colab": {
          "base_uri": "https://localhost:8080/"
        },
        "id": "dIL6dsPJ9RQw",
        "outputId": "a533fb99-3bf5-4641-a286-425e10270584"
      },
      "outputs": [
        {
          "name": "stdout",
          "output_type": "stream",
          "text": [
            "Độ chính xác (hồi quy tuyến tính): 0.8584196830295538\n"
          ]
        }
      ],
      "source": [
        "# Huấn luyện mô hình Linear Regression\n",
        "linear_model = LinearRegression()\n",
        "linear_model.fit(X_train, y_train)\n",
        "\n",
        "# Dự đoán trên tập kiểm tra\n",
        "y_pred = linear_model.predict(X_test)\n",
        "\n",
        "# Đánh giá mô hình Linear Regression\n",
        "accuracy = accuracy_score(y_test, y_pred.round())\n",
        "print(\"Độ chính xác (hồi quy tuyến tính):\", accuracy)"
      ]
    },
    {
      "cell_type": "code",
      "execution_count": null,
      "metadata": {
        "colab": {
          "base_uri": "https://localhost:8080/"
        },
        "id": "SuPvyiKi9RqO",
        "outputId": "c6405346-d204-49d9-bf3d-eea7555d28be"
      },
      "outputs": [
        {
          "name": "stderr",
          "output_type": "stream",
          "text": [
            "/usr/local/lib/python3.10/dist-packages/sklearn/metrics/_classification.py:1344: UndefinedMetricWarning: Precision and F-score are ill-defined and being set to 0.0 in labels with no predicted samples. Use `zero_division` parameter to control this behavior.\n",
            "  _warn_prf(average, modifier, msg_start, len(result))\n"
          ]
        },
        {
          "name": "stdout",
          "output_type": "stream",
          "text": [
            "Độ chính xác (Gradient Boosting): 0.8586381498350437\n",
            "Báo cáo phân loại (Gradient Boosting):\n",
            "              precision    recall  f1-score   support\n",
            "\n",
            "           0       0.00      0.00      0.00      4872\n",
            "           1       0.49      0.01      0.02     46323\n",
            "           2       0.86      1.00      0.92    310416\n",
            "\n",
            "    accuracy                           0.86    361611\n",
            "   macro avg       0.45      0.34      0.32    361611\n",
            "weighted avg       0.80      0.86      0.80    361611\n",
            "\n"
          ]
        },
        {
          "name": "stderr",
          "output_type": "stream",
          "text": [
            "/usr/local/lib/python3.10/dist-packages/sklearn/metrics/_classification.py:1344: UndefinedMetricWarning: Precision and F-score are ill-defined and being set to 0.0 in labels with no predicted samples. Use `zero_division` parameter to control this behavior.\n",
            "  _warn_prf(average, modifier, msg_start, len(result))\n",
            "/usr/local/lib/python3.10/dist-packages/sklearn/metrics/_classification.py:1344: UndefinedMetricWarning: Precision and F-score are ill-defined and being set to 0.0 in labels with no predicted samples. Use `zero_division` parameter to control this behavior.\n",
            "  _warn_prf(average, modifier, msg_start, len(result))\n"
          ]
        }
      ],
      "source": [
        "# Huấn luyện mô hình Gradient Boosting\n",
        "gb_model = GradientBoostingClassifier()\n",
        "gb_model.fit(X_train, y_train)\n",
        "\n",
        "# Dự đoán trên tập kiểm tra\n",
        "y_pred = gb_model.predict(X_test)\n",
        "\n",
        "# Đánh giá mô hình Gradient Boosting\n",
        "accuracy = accuracy_score(y_test, y_pred)\n",
        "report = classification_report(y_test, y_pred)\n",
        "\n",
        "print(f'Độ chính xác (Gradient Boosting): {accuracy}')\n",
        "print(f'Báo cáo phân loại (Gradient Boosting):\\n{report}')"
      ]
    },
    {
      "cell_type": "code",
      "execution_count": null,
      "metadata": {
        "colab": {
          "base_uri": "https://localhost:8080/"
        },
        "id": "wXRDxb1krZ2g",
        "outputId": "78ca8b01-76b9-4633-eafc-6dbafb996a76"
      },
      "outputs": [
        {
          "name": "stdout",
          "output_type": "stream",
          "text": [
            "Độ chính xác (MLP): 0.8583533133671265\n",
            "Báo cáo phân loại:\n",
            "               precision    recall  f1-score   support\n",
            "\n",
            "           0       0.12      0.00      0.00      4872\n",
            "           1       0.44      0.00      0.01     46323\n",
            "           2       0.86      1.00      0.92    310416\n",
            "\n",
            "    accuracy                           0.86    361611\n",
            "   macro avg       0.47      0.33      0.31    361611\n",
            "weighted avg       0.80      0.86      0.79    361611\n",
            "\n"
          ]
        }
      ],
      "source": [
        "# Huấn luyện mô hình MLP\n",
        "mlp_model = MLPClassifier()\n",
        "mlp_model.fit(X_train, y_train)\n",
        "\n",
        "# Dự đoán trên tập kiểm tra\n",
        "y_pred = mlp_model.predict(X_test)\n",
        "\n",
        "# Đánh giá mô hình MLP\n",
        "accuracy = accuracy_score(y_test, y_pred)\n",
        "\n",
        "print(\"Độ chính xác (MLP):\", accuracy)\n",
        "print(\"Báo cáo phân loại:\\n\", classification_report(y_test, y_pred))"
      ]
    },
    {
      "cell_type": "code",
      "execution_count": null,
      "metadata": {
        "colab": {
          "base_uri": "https://localhost:8080/"
        },
        "id": "sMh2NkBFrcHX",
        "outputId": "3f958c8b-639b-4d26-c73d-d546e83d717a"
      },
      "outputs": [
        {
          "name": "stdout",
          "output_type": "stream",
          "text": [
            "Độ chính xác (KNN): 0.8399965709007746\n",
            "Báo cáo phân loại:\n",
            "               precision    recall  f1-score   support\n",
            "\n",
            "           0       0.09      0.02      0.03      4872\n",
            "           1       0.25      0.07      0.11     46323\n",
            "           2       0.86      0.97      0.91    310416\n",
            "\n",
            "    accuracy                           0.84    361611\n",
            "   macro avg       0.40      0.35      0.35    361611\n",
            "weighted avg       0.78      0.84      0.80    361611\n",
            "\n"
          ]
        }
      ],
      "source": [
        "# Huấn luyện mô hình K-Nearest Neighbors (KNN)\n",
        "knn_model = KNeighborsClassifier()\n",
        "knn_model.fit(X_train, y_train)\n",
        "\n",
        "# Dự đoán trên tập kiểm tra knn\n",
        "y_pred = knn_model.predict(X_test)\n",
        "\n",
        "# Đánh giá mô hình KNN\n",
        "accuracy = accuracy_score(y_test, y_pred)\n",
        "\n",
        "print(\"Độ chính xác (KNN):\", accuracy)\n",
        "print(\"Báo cáo phân loại:\\n\", classification_report(y_test, y_pred))\n"
      ]
    },
    {
      "cell_type": "code",
      "execution_count": null,
      "metadata": {
        "colab": {
          "base_uri": "https://localhost:8080/"
        },
        "id": "lk8nNa1HrdOP",
        "outputId": "c1a450c1-0712-4f3f-fa21-0d0c2705d2b3"
      },
      "outputs": [
        {
          "name": "stdout",
          "output_type": "stream",
          "text": [
            "Độ chính xác (Random Forest): 0.8426430611900634\n",
            "Báo cáo phân loại:\n",
            "              precision    recall  f1-score   support\n",
            "\n",
            "           0       0.06      0.01      0.02      4872\n",
            "           1       0.26      0.06      0.10     46323\n",
            "           2       0.86      0.97      0.91    310416\n",
            "\n",
            "    accuracy                           0.84    361611\n",
            "   macro avg       0.39      0.35      0.35    361611\n",
            "weighted avg       0.78      0.84      0.80    361611\n",
            "\n"
          ]
        }
      ],
      "source": [
        "# Huấn luyện mô hình Random Forest\n",
        "model = RandomForestClassifier()\n",
        "model.fit(X_train, y_train)\n",
        "\n",
        "# Dự đoán trên tập kiểm tra\n",
        "y_pred = model.predict(X_test)\n",
        "\n",
        "# Đánh giá mô hình random forest\n",
        "accuracy = accuracy_score(y_test, y_pred)\n",
        "report = classification_report(y_test, y_pred)\n",
        "\n",
        "print(f'Độ chính xác (Random Forest): {accuracy}')\n",
        "print(f'Báo cáo phân loại:\\n{report}')"
      ]
    }
  ],
  "metadata": {
    "colab": {
      "provenance": []
    },
    "kernelspec": {
      "display_name": "Python 3",
      "name": "python3"
    },
    "language_info": {
      "name": "python"
    }
  },
  "nbformat": 4,
  "nbformat_minor": 0
}
